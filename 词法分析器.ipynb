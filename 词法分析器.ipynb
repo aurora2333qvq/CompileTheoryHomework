{
 "cells": [
  {
   "cell_type": "code",
   "execution_count": 38,
   "metadata": {
    "scrolled": true
   },
   "outputs": [
    {
     "name": "stdout",
     "output_type": "stream",
     "text": [
      "for\n",
      "m\n",
      "in\n",
      "range(1,10):\n",
      "range\n",
      "1\n",
      "10\n",
      "\n",
      "for\n",
      "n\n",
      "in\n",
      "range(1,10):\n",
      "range\n",
      "1\n",
      "10\n",
      "\n",
      "print('%s×%s=%s'%(m,n,m*n))\n",
      "print\n",
      "'\n",
      "s×\n",
      "s\n",
      "\n",
      "s'\n",
      "\n",
      "m\n",
      "n\n",
      "m\n",
      "n\n",
      "\n"
     ]
    }
   ],
   "source": [
    "import xlwt\n",
    "import xlrd\n",
    "from xlutils.copy import copy  \n",
    "#保留字\n",
    "keyword_list = ['False','class','from','or','None','continue','global','end','range','pass',\n",
    "                'True','def','if','raise','and','del','import','return','as','elif',\n",
    "                'in','try','assert','else','is','while','async','except','lambda',\n",
    "                'with','await','finally','nonlocal','yield','break','for','not','print']\n",
    "#运算符\n",
    "operator_list = ['+','-','*','/','%','+=','/=',#算术运算符\n",
    "            '==','!=','>','<','>=','<=',#关系运算符\n",
    "            'and','or','not','<<','>>','>>>',#位运算符\n",
    "            'and','||','!',#逻辑运算符\n",
    "            '=','+=','-=','*=','/=','%=','<<=','>>='#赋值运算符\n",
    "            ]#条件运算符\n",
    "#界符\n",
    "delimiters_list = ['{','}','[',']','(',')','.',',',':',';','\\'','\\\"']\n",
    "def scan_file():\n",
    "    pro_list=[]\n",
    "    with open('program.txt','r',encoding='utf-8') as f:\n",
    "             for lines in f:\n",
    "                lines = lines.split()\n",
    "                for item in lines:\n",
    "                    if item[0]=='#':\n",
    "                        lines.remove(item)\n",
    "                if len(lines)!=0:\n",
    "                    pro_list.append(lines)\n",
    "    return pro_list\n",
    "def scan_pro_list(pro_list):\n",
    "    workbook = xlwt.Workbook(encoding='utf-8')\n",
    "    worksheet = workbook.add_sheet('Program_Worksheet')\n",
    "    worksheet.write(0,0,label = 'keyword')\n",
    "    worksheet.write(0,1,label = 'operator')\n",
    "    worksheet.write(0,2,label = 'delimeters')\n",
    "    worksheet.write(0,3,label = 'variable')\n",
    "    worksheet.write(0,4,label = 'constant')\n",
    "    keywordx,operatorx,delimetersx,variablex,constantx=1,1,1,1,1\n",
    "    for lines in pro_list:\n",
    "        for item in lines:\n",
    "            print(item)\n",
    "            if item in keyword_list:\n",
    "                worksheet.write(keywordx,0,item)\n",
    "                keywordx+=1\n",
    "                continue\n",
    "            if item[0] > '0' and item[0] < '9': #如果第一个字符是数字\n",
    "                worksheet.write(constantx,4,item)\n",
    "                constantx+=1\n",
    "                continue\n",
    "            if item in operator_list:\n",
    "                worksheet.write(operatorx,1,item)\n",
    "                operatorx+=1\n",
    "                continue\n",
    "            if item in delimiters_list:\n",
    "                worksheet.write(delimitersx,2,item)\n",
    "                delimitersx+=1\n",
    "                continue\n",
    "            else:\n",
    "                flag=0\n",
    "                st=0\n",
    "                str_tmp_list=[]\n",
    "                for i in range(len(item)):\n",
    "                    if (item[i] in delimiters_list) or (item[i] in operator_list):\n",
    "                        if item[i] in delimiters_list:\n",
    "                            worksheet.write(delimetersx,2,item[i])\n",
    "                            delimetersx+=1\n",
    "                            flag=1\n",
    "                        if item[i] in operator_list:\n",
    "                            worksheet.write(operatorx,1,item[i])\n",
    "                            operatorx+=1\n",
    "                            flag=1\n",
    "                        str_tmp_list=[item[i] for i in range(st,i)]\n",
    "                        str_tmp=\"\".join(str_tmp_list)\n",
    "                        if str_tmp in keyword_list:\n",
    "                            worksheet.write(keywordx,0,str_tmp)\n",
    "                            keywordx+=1\n",
    "                        elif str_tmp >='0' and str_tmp <='9':\n",
    "                            worksheet.write(constantx,4,str_tmp)\n",
    "                            constantx+=1 \n",
    "                        else:\n",
    "                            worksheet.write(variablex,3,str_tmp)\n",
    "                            variablex+=1 \n",
    "                        st=i+1\n",
    "                        print(str_tmp)\n",
    "                if flag==0:\n",
    "                    worksheet.write(variablex,3,item)\n",
    "                    variablex+=1 \n",
    "    workbook.save('excel_test.xls')\n",
    "scan_pro_list(scan_file())  \n",
    "\n",
    "                \n",
    "            \n",
    "            \n",
    "            \n",
    "    \n",
    "\n",
    "    "
   ]
  },
  {
   "cell_type": "code",
   "execution_count": 39,
   "metadata": {},
   "outputs": [
    {
     "name": "stdout",
     "output_type": "stream",
     "text": [
      "'\n",
      "\"\n"
     ]
    }
   ],
   "source": [
    "a= ['\\'','\\\"']\n",
    "for i in a:\n",
    "    print(i)"
   ]
  },
  {
   "cell_type": "code",
   "execution_count": 31,
   "metadata": {},
   "outputs": [
    {
     "name": "stdout",
     "output_type": "stream",
     "text": [
      "print\n",
      "\n",
      "\n",
      "s×\n",
      "s=\n",
      "s\n",
      "\n",
      "\n",
      "m\n",
      "n\n",
      "m\n",
      "n\n",
      "\n"
     ]
    }
   ],
   "source": [
    "item=\"print('%s×%s=%s'%(m,n,m*n))\"\n",
    "tmp_list = []\n",
    "operator_list = ['+','-','*','/','%','+=','/=',#算术运算符\n",
    "            '==','!=','>','<','>=','<=',#关系运算符\n",
    "            'and','or','not','<<','>>','>>>',#位运算符\n",
    "            'and','||','!',#逻辑运算符\n",
    "            '=','+=','-=','*=','/=','%=','<<=','>>='#赋值运算符\n",
    "            ]#条件运算符\n",
    "#界符\n",
    "delimiters_list = [ '{' , '}' , '[' , ']' , '(' , ')', '.' , ',', ':' ,';','%s','%d','%f','%lf ','%','*','\\'']\n",
    "st=0\n",
    "for i in range(len(item)):\n",
    "    if item[i] in delimiters_list:\n",
    "        tmp_list = [item[i] for i in range(st,i)]\n",
    "        tmp = \"\".join(tmp_list)\n",
    "        print(tmp)\n",
    "        st=i+1\n",
    "        \n",
    "\n",
    "    "
   ]
  },
  {
   "cell_type": "code",
   "execution_count": 28,
   "metadata": {},
   "outputs": [
    {
     "ename": "SyntaxError",
     "evalue": "EOL while scanning string literal (<ipython-input-28-eb91662e6176>, line 1)",
     "output_type": "error",
     "traceback": [
      "\u001b[1;36m  File \u001b[1;32m\"<ipython-input-28-eb91662e6176>\"\u001b[1;36m, line \u001b[1;32m1\u001b[0m\n\u001b[1;33m    d'w=2\u001b[0m\n\u001b[1;37m         ^\u001b[0m\n\u001b[1;31mSyntaxError\u001b[0m\u001b[1;31m:\u001b[0m EOL while scanning string literal\n"
     ]
    }
   ],
   "source": []
  },
  {
   "cell_type": "code",
   "execution_count": null,
   "metadata": {},
   "outputs": [],
   "source": []
  }
 ],
 "metadata": {
  "kernelspec": {
   "display_name": "Python 3",
   "language": "python",
   "name": "python3"
  },
  "language_info": {
   "codemirror_mode": {
    "name": "ipython",
    "version": 3
   },
   "file_extension": ".py",
   "mimetype": "text/x-python",
   "name": "python",
   "nbconvert_exporter": "python",
   "pygments_lexer": "ipython3",
   "version": "3.7.4"
  }
 },
 "nbformat": 4,
 "nbformat_minor": 2
}
