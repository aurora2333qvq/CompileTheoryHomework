{
 "cells": [
  {
   "cell_type": "code",
   "execution_count": null,
   "metadata": {},
   "outputs": [],
   "source": [
    "def scan(linenum): \n",
    "    f=open('program.txt','r',encoding='utf-8')\n",
    "    i=0\n",
    "    for lines in f:\n",
    "        i+=1\n",
    "        if linenum == i:\n",
    "            if lines.startswith('{') or lines.startswith('//') or lines.startswith('(*'):\n",
    "                continue\n",
    "            else:\n",
    "                print(\"%d:%s\"%(i,lines))\n",
    "i=1\n",
    "while i<=4 :\n",
    "    scan(i)\n",
    "    i+=1\n",
    "            "
   ]
  },
  {
   "cell_type": "code",
   "execution_count": null,
   "metadata": {},
   "outputs": [],
   "source": []
  }
 ],
 "metadata": {
  "kernelspec": {
   "display_name": "Python 3",
   "language": "python",
   "name": "python3"
  },
  "language_info": {
   "codemirror_mode": {
    "name": "ipython",
    "version": 3
   },
   "file_extension": ".py",
   "mimetype": "text/x-python",
   "name": "python",
   "nbconvert_exporter": "python",
   "pygments_lexer": "ipython3",
   "version": "3.7.4"
  }
 },
 "nbformat": 4,
 "nbformat_minor": 2
}
